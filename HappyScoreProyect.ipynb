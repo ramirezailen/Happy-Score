{
 "cells": [
  {
   "cell_type": "code",
   "execution_count": 2,
   "id": "d054b80a",
   "metadata": {},
   "outputs": [
    {
     "name": "stdout",
     "output_type": "stream",
     "text": [
      "          country  adjusted_satisfaction  avg_satisfaction  std_satisfaction  \\\n",
      "0         Armenia                   37.0               4.9              2.42   \n",
      "1          Angola                   26.0               4.3              3.19   \n",
      "2       Argentina                   60.0               7.1              1.91   \n",
      "3         Austria                   59.0               7.2              2.11   \n",
      "4       Australia                   65.0               7.6              1.80   \n",
      "..            ...                    ...               ...               ...   \n",
      "106       Uruguay                   58.0               7.0              2.13   \n",
      "107       Vietnam                   53.0               6.1              1.77   \n",
      "108  South Africa                   49.0               6.3              2.47   \n",
      "109        Zambia                   37.0               5.0              2.61   \n",
      "110      Zimbabwe                   33.0               4.1              2.16   \n",
      "\n",
      "     avg_income  median_income  income_inequality  \\\n",
      "0       2096.76    1731.506667          31.445556   \n",
      "1       1448.88    1044.240000          42.720000   \n",
      "2       7101.12    5109.400000          45.475556   \n",
      "3      19457.04   16879.620000          30.296250   \n",
      "4      19917.00   15846.060000          35.285000   \n",
      "..          ...            ...                ...   \n",
      "106     7544.40    5269.226667          45.014444   \n",
      "107     2231.40    1643.580000          39.242500   \n",
      "108     3889.32    1506.400000          63.726667   \n",
      "109      956.76     510.060000          55.120000   \n",
      "110     1768.56    1230.600000          43.150000   \n",
      "\n",
      "                            region  happyScore      GDP     country.1  \n",
      "0     'Central and Eastern Europe'       4.350  0.76821       Armenia  \n",
      "1             'Sub-Saharan Africa'       4.033  0.75778        Angola  \n",
      "2    'Latin America and Caribbean'       6.574  1.05351     Argentina  \n",
      "3                 'Western Europe'       7.200  1.33723       Austria  \n",
      "4      'Australia and New Zealand'       7.284  1.33358     Australia  \n",
      "..                             ...         ...      ...           ...  \n",
      "106  'Latin America and Caribbean'       6.485  1.06166       Uruguay  \n",
      "107            'Southeastern Asia'       5.360  0.63216       Vietnam  \n",
      "108           'Sub-Saharan Africa'       4.642  0.92049  South Africa  \n",
      "109           'Sub-Saharan Africa'       5.129  0.47038        Zambia  \n",
      "110           'Sub-Saharan Africa'       4.610  0.27100      Zimbabwe  \n",
      "\n",
      "[111 rows x 11 columns]\n"
     ]
    }
   ],
   "source": [
    "import pandas as pd\n",
    "\n",
    "data = pd.read_csv('happyscore_income.csv')\n",
    "\n",
    "print (data)"
   ]
  },
  {
   "cell_type": "code",
   "execution_count": 3,
   "id": "c2e5de0e",
   "metadata": {},
   "outputs": [
    {
     "name": "stdout",
     "output_type": "stream",
     "text": [
      "0      4.350\n",
      "1      4.033\n",
      "2      6.574\n",
      "3      7.200\n",
      "4      7.284\n",
      "       ...  \n",
      "106    6.485\n",
      "107    5.360\n",
      "108    4.642\n",
      "109    5.129\n",
      "110    4.610\n",
      "Name: happyScore, Length: 111, dtype: float64\n"
     ]
    }
   ],
   "source": [
    "happy = data ['happyScore']\n",
    "income = data ['avg_income']\n",
    "\n",
    "print(happy)"
   ]
  },
  {
   "cell_type": "code",
   "execution_count": 6,
   "id": "7e4a6cc8",
   "metadata": {},
   "outputs": [
    {
     "data": {
      "text/plain": [
       "<matplotlib.collections.PathCollection at 0x7f136ad4c970>"
      ]
     },
     "execution_count": 6,
     "metadata": {},
     "output_type": "execute_result"
    },
    {
     "data": {
      "image/png": "[encoded data removed]",
      "text/plain": [
       "<Figure size 432x288 with 1 Axes>"
      ]
     },
     "metadata": {
      "needs_background": "light"
     },
     "output_type": "display_data"
    }
   ],
   "source": [
    "import matplotlib.pyplot as plt\n",
    "\n",
    "plt.xlabel('income')\n",
    "plt.ylabel('happy score')\n",
    "plt.scatter(income, happy)"
   ]
  },
  {
   "cell_type": "code",
   "execution_count": 8,
   "id": "521fb64c",
   "metadata": {},
   "outputs": [
    {
     "data": {
      "text/plain": [
       "19266.680753968256"
      ]
     },
     "execution_count": 8,
     "metadata": {},
     "output_type": "execute_result"
    }
   ],
   "source": [
    "#sorting\n",
    "import numpy as np\n",
    "\n",
    "data.sort_values('avg_income', inplace=True)\n",
    "\n",
    "richest = data [data['avg_income'] > 15000]\n",
    "\n",
    "np.mean (richest['avg_income'])\n",
    "\n",
    "\n",
    "\n"
   ]
  },
  {
   "cell_type": "code",
   "execution_count": null,
   "id": "a13fa3cc",
   "metadata": {},
   "outputs": [],
   "source": []
  }
 ],
 "metadata": {
  "kernelspec": {
   "display_name": "Python 3",
   "language": "python",
   "name": "python3"
  },
  "language_info": {
   "codemirror_mode": {
    "name": "ipython",
    "version": 3
   },
   "file_extension": ".py",
   "mimetype": "text/x-python",
   "name": "python",
   "nbconvert_exporter": "python",
   "pygments_lexer": "ipython3",
   "version": "3.8.8"
  }
 },
 "nbformat": 4,
 "nbformat_minor": 5
}
